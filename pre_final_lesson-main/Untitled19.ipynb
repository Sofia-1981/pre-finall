{
  "nbformat": 4,
  "nbformat_minor": 0,
  "metadata": {
    "colab": {
      "name": "Untitled19.ipynb",
      "provenance": []
    },
    "kernelspec": {
      "name": "python3",
      "display_name": "Python 3"
    },
    "language_info": {
      "name": "python"
    }
  },
  "cells": [
    {
      "cell_type": "markdown",
      "metadata": {
        "id": "OmAhlKZHKqAf"
      },
      "source": [
        "Инкапсуляция в классах python \n",
        "\n",
        "В Python различаю 3 типа атрибутов и методов\n",
        "\n",
        "1.   protected _name_varible защищенный на уровне согласования \n",
        "2.   public Доступны за пределами класса \n",
        "3.   private __name_varible\n",
        "Прочитать : экз_класса._Имя_класса_ _приватныйАтрибут\n",
        "\n",
        "\n"
      ]
    },
    {
      "cell_type": "code",
      "metadata": {
        "colab": {
          "base_uri": "https://localhost:8080/"
        },
        "id": "sS-Ht_9EKpnR",
        "outputId": "e665eaec-2b1a-470e-cfc9-81d27905d525"
      },
      "source": [
        "\n",
        "# пример 1. Как это выглядит\n",
        "def tagMaker(func):\n",
        "    def wrapper(*args, **kwargs):\n",
        "        print('<div>')\n",
        "        func(*args, **kwargs)\n",
        "        print('</div>')\n",
        "\n",
        "    return wrapper\n",
        "\n",
        "\n",
        "def printText(text):\n",
        "    print(text)\n",
        "\n",
        "\n",
        "tag1 = tagMaker(printText)\n",
        "tag1('hello')\n",
        "\n",
        "# Пример2 . Как это должно выглядеть. Важно, чтобы сам декоратор был выше функции\n",
        "def tagMaker(func):\n",
        "\tdef wrapper(*args, **kwargs):\n",
        "\t\tprint('<div>')\n",
        "\t\tres = func(*args, **kwargs)\n",
        "\t\tprint('</div>')\n",
        "\t\treturn res\n",
        "\treturn wrapper\n",
        "\n",
        "@tagMaker\n",
        "def printText(text):\t\n",
        "\tprint(text)\n",
        "\n",
        "printText('Hello World')\n",
        "\n",
        "# Пример 3. Замерим время работы программы.\n",
        "import time\n",
        "import datetime\n",
        "\n",
        "\n",
        "def recTime(func):\n",
        "\tdef wrapper(*args, **kwargs):\n",
        "\t\tstart = datetime.datetime.now()\n",
        "\t\tfunc(*args, **kwargs)\n",
        "\t\tdone = datetime.datetime.now() - start\n",
        "\t\tprint(f'Функция завершилась за {done} сек')\n",
        "\treturn wrapper\n",
        "\n",
        "\n",
        "# @tagMaker\n",
        "@recTime\n",
        "def printText(text):\n",
        "    time.sleep(3)\n",
        "    print(text)\n",
        "\n",
        "printText('Hello World')\n",
        "\n",
        "\n",
        "# Пример 4. Документация \n",
        "# from functools import wraps\n",
        "\n",
        "def tagMaker(func):\n",
        "    # @wraps(func) помогает передать информацию из реальной функции в help\n",
        "    def wrapper(*args, **kwargs):\n",
        "        '''Декоратор который добавляет див\n",
        "        :param func:\n",
        "        :return:\n",
        "        '''\n",
        "        print('<div>')\n",
        "        res = func(*args, **kwargs)\n",
        "        print('</div>')\n",
        "        return res\n",
        "    return wrapper\n",
        "\n",
        "@tagMaker\n",
        "def printText(*args):\n",
        "    ''' Функция принт текст\n",
        "    :param args:\n",
        "    :return:\n",
        "    '''\n",
        "    print(args)\n",
        "\n",
        "printText('Hello World')\n",
        "\n",
        "help(printText)"
      ],
      "execution_count": null,
      "outputs": [
        {
          "output_type": "stream",
          "text": [
            "<div>\n",
            "hello\n",
            "</div>\n",
            "<div>\n",
            "Hello World\n",
            "</div>\n",
            "Hello World\n",
            "Функция завершилась за 0:00:03.003302 сек\n",
            "<div>\n",
            "('Hello World',)\n",
            "</div>\n",
            "Help on function wrapper in module __main__:\n",
            "\n",
            "wrapper(*args, **kwargs)\n",
            "    Декоратор который добавляет див\n",
            "    :param func:\n",
            "    :return:\n",
            "\n"
          ],
          "name": "stdout"
        }
      ]
    },
    {
      "cell_type": "markdown",
      "metadata": {
        "id": "c3BZC841NXGb"
      },
      "source": [
        "Декоратор- это функция, которая принимает другрую функцию, расширяет ее не изменяя.\n"
      ]
    },
    {
      "cell_type": "markdown",
      "metadata": {
        "id": "LYbo9eAWQNc7"
      },
      "source": [
        "wxPython - GUI модуль \n",
        "Уроки: https://www.youtube.com/watch?v=ntdYALwnF2g&list=PLA0M1Bcd0w8zyJOJXbvTKROHs2JJVGB6C"
      ]
    },
    {
      "cell_type": "markdown",
      "metadata": {
        "id": "TNvU7cDdQyPO"
      },
      "source": [
        "pip install wxPython\n"
      ]
    },
    {
      "cell_type": "code",
      "metadata": {
        "id": "pR_Wzl0SQRFI",
        "colab": {
          "base_uri": "https://localhost:8080/",
          "height": 299
        },
        "outputId": "9953dcce-6231-406b-f353-96da12510318"
      },
      "source": [
        "import wx\n",
        "APP_EXIT = 1\n",
        "class MyFrame(wx.Frame):\n",
        "  def __init__(self, parent, title):\n",
        "    super().__init__(parent, title=title)\n",
        "\n",
        "    menubar = wx.MenuBar() # создаем меню\n",
        "    fileMenu = wx.Menu() #вкладка\n",
        "    item = wx.MenuItem(fileMenu, APP_EXIT, 'выход', 'выход из приложения')\n",
        "    filemenu.Append(item)\n",
        "    menubar.Append(fileMenu, '&File') #alt + f\n",
        "    self.SetMenuBar(menubar) # размещаем меню\n",
        "\n",
        "    self.Bind(wx.EVT_MENU, self.onQuit, item)  # связь события\n",
        "\n",
        "  def onQuit(self, event):\n",
        "    self.Close()\n",
        "\n",
        "\n",
        "app = wx.App()\n",
        "frame = MyFrame(None, 'Hello Word')\n",
        "frame.show()\n",
        "app.MainLoop()\n"
      ],
      "execution_count": 2,
      "outputs": [
        {
          "output_type": "error",
          "ename": "ModuleNotFoundError",
          "evalue": "ignored",
          "traceback": [
            "\u001b[0;31m---------------------------------------------------------------------------\u001b[0m",
            "\u001b[0;31mModuleNotFoundError\u001b[0m                       Traceback (most recent call last)",
            "\u001b[0;32m<ipython-input-2-03faa7660341>\u001b[0m in \u001b[0;36m<module>\u001b[0;34m()\u001b[0m\n\u001b[0;32m----> 1\u001b[0;31m \u001b[0;32mimport\u001b[0m \u001b[0mwx\u001b[0m\u001b[0;34m\u001b[0m\u001b[0;34m\u001b[0m\u001b[0m\n\u001b[0m",
            "\u001b[0;31mModuleNotFoundError\u001b[0m: No module named 'wx'",
            "",
            "\u001b[0;31m---------------------------------------------------------------------------\u001b[0;32m\nNOTE: If your import is failing due to a missing package, you can\nmanually install dependencies using either !pip or !apt.\n\nTo view examples of installing some common dependencies, click the\n\"Open Examples\" button below.\n\u001b[0;31m---------------------------------------------------------------------------\u001b[0m\n"
          ]
        }
      ]
    }
  ]
}